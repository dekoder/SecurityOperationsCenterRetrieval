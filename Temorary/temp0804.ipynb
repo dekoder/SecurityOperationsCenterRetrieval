{
 "cells": [
  {
   "cell_type": "code",
   "execution_count": 8,
   "metadata": {
    "collapsed": false
   },
   "outputs": [
    {
     "name": "stdout",
     "output_type": "stream",
     "text": [
      "   Unnamed: 0  DSTPORT1  DSTPORT2  DSTPORT3  DSTPORT4  DSTPORT5  DSTPORT6  \\\n0           0         0         0         0         0         0         0   \n1           1         0         0         0         0         0         0   \n2           2         1         0         0         0         0         0   \n3           3         1         0         0         0         0         0   \n4           4         0         0         0         0         0         0   \n\n   DSTPORT7  DSTPORT8  SRCPORT1   ...    SRCIP8  DSTIP1  DSTIP2  DSTIP3  \\\n0         0         0         0   ...         0       0       0       0   \n1         0         0         0   ...         0       0       0       0   \n2         0         0         0   ...         0       1       0       0   \n3         0         0         0   ...         0       1       0       0   \n4         0         0         0   ...         0       0       0       0   \n\n   DSTIP4  DSTIP5  DSTIP6  DSTIP7  DSTIP8  Result  \n0       0       0       0       0       0       1  \n1       0       0       0       0       0       1  \n2       0       0       0       0       0       0  \n3       0       0       0       0       0       0  \n4       0       0       0       0       0       0  \n\n[5 rows x 34 columns]\n"
     ]
    }
   ],
   "source": [
    "import pandas as pd\n",
    "Data_Source = pd.read_csv(r'C:\\Users\\txl78\\PycharmProjects\\SecurityOperationsCenterRetrieval\\Data\\TempSamples2\\MyFile\\NumberEndFile.csv')\n",
    "print(Data_Source.head())"
   ]
  },
  {
   "cell_type": "markdown",
   "metadata": {},
   "source": [
    "import this"
   ]
  },
  {
   "cell_type": "code",
   "execution_count": 3,
   "metadata": {},
   "outputs": [],
   "source": []
  },
  {
   "cell_type": "code",
   "execution_count": null,
   "metadata": {},
   "outputs": [],
   "source": []
  }
 ],
 "metadata": {
  "kernelspec": {
   "display_name": "Python 2",
   "language": "python",
   "name": "python2"
  },
  "language_info": {
   "codemirror_mode": {
    "name": "ipython",
    "version": 2
   },
   "file_extension": ".py",
   "mimetype": "text/x-python",
   "name": "python",
   "nbconvert_exporter": "python",
   "pygments_lexer": "ipython2",
   "version": "2.7.6"
  }
 },
 "nbformat": 4,
 "nbformat_minor": 0
}
